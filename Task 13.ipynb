{
 "cells": [
  {
   "cell_type": "markdown",
   "id": "32f84555",
   "metadata": {},
   "source": [
    "## Write a function called \"add_numbers\" that takes two integers as input and returns their sum."
   ]
  },
  {
   "cell_type": "code",
   "execution_count": 1,
   "id": "8093812f",
   "metadata": {},
   "outputs": [],
   "source": [
    "def add_numbers(a,b):\n",
    "    print(a+b)"
   ]
  },
  {
   "cell_type": "code",
   "execution_count": 2,
   "id": "62137c14",
   "metadata": {},
   "outputs": [
    {
     "name": "stdout",
     "output_type": "stream",
     "text": [
      "15\n"
     ]
    }
   ],
   "source": [
    "add_numbers(10,5)"
   ]
  },
  {
   "cell_type": "markdown",
   "id": "44698cf0",
   "metadata": {},
   "source": [
    "## Write a function called \"multiply_numbers\" that takes two integers as input and returns their product."
   ]
  },
  {
   "cell_type": "code",
   "execution_count": 1,
   "id": "e6525e24",
   "metadata": {},
   "outputs": [],
   "source": [
    "def multiply_numbers(a,b):\n",
    "    print(a * b)"
   ]
  },
  {
   "cell_type": "code",
   "execution_count": 3,
   "id": "acbf9dbb",
   "metadata": {},
   "outputs": [
    {
     "name": "stdout",
     "output_type": "stream",
     "text": [
      "6\n"
     ]
    }
   ],
   "source": [
    "multiply_numbers(2,3)"
   ]
  },
  {
   "cell_type": "markdown",
   "id": "2a354edd",
   "metadata": {},
   "source": [
    "## Write a function called \"calculate_average\" that takes a list of numbers as input and returns the average of thosenumbers."
   ]
  },
  {
   "cell_type": "code",
   "execution_count": 5,
   "id": "9cea7e1c",
   "metadata": {},
   "outputs": [],
   "source": [
    "def calculate_average(a,b,c,d):\n",
    "    sum= (a+b+c+d)\n",
    "    total= 4\n",
    "    avg= sum / total\n",
    "    print(avg)"
   ]
  },
  {
   "cell_type": "code",
   "execution_count": 7,
   "id": "0db6aad3",
   "metadata": {},
   "outputs": [
    {
     "name": "stdout",
     "output_type": "stream",
     "text": [
      "2.5\n"
     ]
    }
   ],
   "source": [
    "calculate_average(1,2,3,4)"
   ]
  },
  {
   "cell_type": "markdown",
   "id": "e9ece9c1",
   "metadata": {},
   "source": [
    "## Write a function called \"is_even\" that takes an integer as input and returns True if the number is even, and False otherwise."
   ]
  },
  {
   "cell_type": "code",
   "execution_count": 8,
   "id": "d11d8865",
   "metadata": {},
   "outputs": [],
   "source": [
    "def is_even(n):\n",
    "    if (n % 2 == 0):\n",
    "        print(\"True\")\n",
    "    else:\n",
    "        print(\"False\")\n"
   ]
  },
  {
   "cell_type": "code",
   "execution_count": 11,
   "id": "cc64d7b7",
   "metadata": {},
   "outputs": [
    {
     "name": "stdout",
     "output_type": "stream",
     "text": [
      "enter a number: 4\n",
      "True\n"
     ]
    }
   ],
   "source": [
    "n= int(input(\"enter a number: \"))\n",
    "is_even(n)"
   ]
  },
  {
   "cell_type": "markdown",
   "id": "9f1c68b3",
   "metadata": {},
   "source": [
    "## Write a function called \"reverse_string\" that takes a string as input and returns the reverse of that string."
   ]
  },
  {
   "cell_type": "code",
   "execution_count": 12,
   "id": "6bb87ea8",
   "metadata": {},
   "outputs": [
    {
     "name": "stdout",
     "output_type": "stream",
     "text": [
      "enter x value:10\n",
      "enter y value:20\n",
      "enter z value:30\n",
      "enter p value:40\n",
      "25.0\n"
     ]
    }
   ],
   "source": [
    "def calculate_average(x,y,z,p):\n",
    "    sum = x+y+z+p\n",
    "    n = 4\n",
    "    avg = sum/n\n",
    "    print(avg)\n",
    "x = int(input(\"enter x value:\"))  \n",
    "y = int(input(\"enter y value:\"))      \n",
    "z = int(input(\"enter z value:\"))\n",
    "p = int(input(\"enter p value:\"))      \n",
    "calculate_average(x,y,z,p)    "
   ]
  },
  {
   "cell_type": "markdown",
   "id": "577cff87",
   "metadata": {},
   "source": [
    "## Write a function called \"is_even\" that takes an integer as input and returns True if the number is even, and False otherwise."
   ]
  },
  {
   "cell_type": "code",
   "execution_count": 13,
   "id": "dd3207e4",
   "metadata": {},
   "outputs": [
    {
     "name": "stdout",
     "output_type": "stream",
     "text": [
      "enter a number::44\n",
      "True\n"
     ]
    }
   ],
   "source": [
    "def is_even(x):\n",
    "    if x % 2 == 0:\n",
    "        print(\"True\")\n",
    "    else:\n",
    "        print(\"False\")\n",
    "x = int(input(\"enter a number::\"))        \n",
    "is_even(x)        "
   ]
  },
  {
   "cell_type": "markdown",
   "id": "532d0589",
   "metadata": {},
   "source": [
    "## Write a function called \"reverse_string\" that takes a string as input and returns the reverse of that string."
   ]
  },
  {
   "cell_type": "code",
   "execution_count": 14,
   "id": "b7a7dd28",
   "metadata": {},
   "outputs": [
    {
     "name": "stdout",
     "output_type": "stream",
     "text": [
      "enter a name:: Subhasri\n",
      "irsahbuS\n"
     ]
    }
   ],
   "source": [
    "def reverse_string(x):\n",
    "    print(x[::-1])\n",
    "x = input(\"enter a name:: \")\n",
    "reverse_string(x)"
   ]
  },
  {
   "cell_type": "markdown",
   "id": "80e9d3b9",
   "metadata": {},
   "source": [
    "## Write a function called \"count_vowels\" that takes a string as input and returns the number of vowels (a, e, i, o, u) in that string."
   ]
  },
  {
   "cell_type": "code",
   "execution_count": 15,
   "id": "4612b1c9",
   "metadata": {},
   "outputs": [
    {
     "name": "stdout",
     "output_type": "stream",
     "text": [
      "enter your nick name::Subhasri\n",
      "3\n"
     ]
    }
   ],
   "source": [
    "vowels = (\"a\",\"e\",\"i\",\"o\",\"u\")\n",
    "vol = []\n",
    "def count_vowels(name):\n",
    "    for i in name: \n",
    "        if i in vowels:\n",
    "            vol.append(i) \n",
    "    print(len(vol))       \n",
    "name = input(\"enter your nick name::\")        \n",
    "count_vowels(name)          "
   ]
  },
  {
   "cell_type": "markdown",
   "id": "c0e564a7",
   "metadata": {},
   "source": [
    "## Write a function called \"find_max\" that takes a list of numbers as input and returns the maximum value in that list."
   ]
  },
  {
   "cell_type": "code",
   "execution_count": 16,
   "id": "979be066",
   "metadata": {},
   "outputs": [
    {
     "name": "stdout",
     "output_type": "stream",
     "text": [
      "5\n"
     ]
    }
   ],
   "source": [
    "def find_max(a,b,c,d,e):\n",
    "    print(max(a,b,c,d,e))\n",
    "find_max(1,2,3,4,5)"
   ]
  },
  {
   "cell_type": "markdown",
   "id": "bb110557",
   "metadata": {},
   "source": [
    "## Write a function called \"find_min\" that takes a list of numbers as input and returns the minimum value in that list."
   ]
  },
  {
   "cell_type": "code",
   "execution_count": 17,
   "id": "0ed326d5",
   "metadata": {},
   "outputs": [
    {
     "name": "stdout",
     "output_type": "stream",
     "text": [
      "1\n"
     ]
    }
   ],
   "source": [
    "def find_min(a,b,c,d,e):\n",
    "    print(min(a,b,c,d,e))\n",
    "find_min(1,2,3,4,5)"
   ]
  },
  {
   "cell_type": "code",
   "execution_count": null,
   "id": "5c2717f2",
   "metadata": {},
   "outputs": [],
   "source": []
  }
 ],
 "metadata": {
  "kernelspec": {
   "display_name": "Python 3 (ipykernel)",
   "language": "python",
   "name": "python3"
  },
  "language_info": {
   "codemirror_mode": {
    "name": "ipython",
    "version": 3
   },
   "file_extension": ".py",
   "mimetype": "text/x-python",
   "name": "python",
   "nbconvert_exporter": "python",
   "pygments_lexer": "ipython3",
   "version": "3.11.4"
  }
 },
 "nbformat": 4,
 "nbformat_minor": 5
}
